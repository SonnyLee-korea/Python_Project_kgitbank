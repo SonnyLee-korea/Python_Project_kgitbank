{
 "cells": [
  {
   "cell_type": "code",
   "execution_count": 23,
   "metadata": {},
   "outputs": [],
   "source": [
    "import requests\n",
    "from bs4 import BeautifulSoup\n",
    "import time\n",
    "import urllib.request\n",
    "from tqdm import tqdm"
   ]
  },
  {
   "cell_type": "code",
   "execution_count": 40,
   "metadata": {},
   "outputs": [
    {
     "name": "stderr",
     "output_type": "stream",
     "text": [
      "100%|████████████████████████████████████████████████████████████████████████████████| 757/757 [03:07<00:00,  4.04it/s]\n"
     ]
    }
   ],
   "source": [
    "# 그림파일 url 들을 모아서 자장할 빈 리스트 만들기\n",
    "url_list = []\n",
    "\n",
    "# 1~757화까지 자동으로 순회하는 크롤러 (1초 딜레이)\n",
    " # 주소 접근\n",
    "    \n",
    "    # 소스코드 가져오기\n",
    "    \n",
    "    # 파싱하기\n",
    "    \n",
    "    # 그림파일 영역만 따서 img태그 가져오기\n",
    "    \n",
    "    # img태그 내부의 src 속성 내용물 가져오기\n",
    "for i in tqdm(range(1,758)):\n",
    "    try:\n",
    "        url = requests.get('https://sports.donga.com/cartoon?cid=0100000204&sid={}'.format(i))\n",
    "        \n",
    "        text = url.text\n",
    "        soup = BeautifulSoup(text)\n",
    "        url_list.append(soup.find('div','cartoon_view').find('img')['src'])\n",
    "    except ValueError:\n",
    "        print(\"오류 발생 지점 {}\".format(idx+1))\n",
    "\n",
    "   "
   ]
  },
  {
   "cell_type": "markdown",
   "metadata": {},
   "source": [
    "# 수집해온 경로의 그림파일 다운로드\n",
    "    - urllib.request.urlretrieve(다운받을 주소, 파일경로 및 이름)"
   ]
  },
  {
   "cell_type": "code",
   "execution_count": 41,
   "metadata": {},
   "outputs": [
    {
     "data": {
      "text/plain": [
       "'https://image.donga.com/pictorial/uData/conthub/0100000204/51/6280/516280781d1b.jpg'"
      ]
     },
     "execution_count": 41,
     "metadata": {},
     "output_type": "execute_result"
    }
   ],
   "source": [
    "url_list[0]"
   ]
  },
  {
   "cell_type": "code",
   "execution_count": 43,
   "metadata": {},
   "outputs": [],
   "source": [
    "for idx,i in enumerate(url_list):\n",
    "    time.sleep(0.2)\n",
    "    urllib.request.urlretrieve(i,'C:/Users/82105/Desktop/kg_itbank/itbank_python_project/cartoon/{}화.jpg'.format(idx+1))"
   ]
  }
 ],
 "metadata": {
  "kernelspec": {
   "display_name": "tf-gpu",
   "language": "python",
   "name": "tf2.0-gpu"
  },
  "language_info": {
   "codemirror_mode": {
    "name": "ipython",
    "version": 3
   },
   "file_extension": ".py",
   "mimetype": "text/x-python",
   "name": "python",
   "nbconvert_exporter": "python",
   "pygments_lexer": "ipython3",
   "version": "3.7.2"
  }
 },
 "nbformat": 4,
 "nbformat_minor": 4
}
