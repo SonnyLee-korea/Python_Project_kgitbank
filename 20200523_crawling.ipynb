{
 "cells": [
  {
   "cell_type": "code",
   "execution_count": 29,
   "metadata": {},
   "outputs": [],
   "source": [
    "import os\n",
    "from bs4 import BeautifulSoup\n",
    "from selenium import webdriver\n",
    "import time"
   ]
  },
  {
   "cell_type": "code",
   "execution_count": 30,
   "metadata": {},
   "outputs": [],
   "source": [
    "# driver라는 변수가 브라우저 그 자체, diver 변수에 내리는 명령이 그대로 반영됨\n",
    "# driver = webdriver.Chrome(ChromeDriverManager().install())\n",
    "driver = webdriver.Chrome('/chromedriver.exe')\n",
    "\n",
    "# .get(홈페이지주소)를 입력하면 그 주소로 브라우저가 이동한다.\n",
    "driver.get('https://www.naver.com')\n",
    "\n",
    "# 네이버 로그인버튼의 xpath를 따온 다음 클릭시키기\n",
    "driver.find_element_by_xpath('//*[@id=\"account\"]/a').click()\n",
    "\n",
    "# username이라는 변수에 로그인 아이디 박스 xpath 위치 잡아주고 아이디 입력\n",
    "username = driver.find_element_by_xpath('//*[@id=\"id\"]')\n",
    "username.send_keys('hodtkqwlf12')\n",
    "\n",
    "# userpass라는 변수에 비밀번호 입력 박스 xpath 위치 잡아주고 비밀번호 입력\n",
    "userpass = driver.find_element_by_xpath('//*[@id=\"pw\"]')\n",
    "userpass.send_keys('eodk')\n",
    "\n",
    "# 로그인 버튼 클릭하기\n",
    "driver.find_element_by_xpath('//*[@id=\"log.login\"]').click()\n",
    "\n",
    "# 코드 실행간 텀 주기 (3초)\n",
    "time.sleep(3)\n",
    "# 창 종료 명령\n",
    "driver.close()\n"
   ]
  },
  {
   "cell_type": "markdown",
   "metadata": {},
   "source": [
    "### 교보문고 사이트 접근 실습\n",
    "- 1. 네이버 검색창에서 '교보문고' 키워드로 검색\n",
    "- 2. 검색 결과로 나온 창에서 '교보문고' 이동 링크 클릭"
   ]
  },
  {
   "cell_type": "code",
   "execution_count": 32,
   "metadata": {},
   "outputs": [],
   "source": [
    "driver = webdriver.Chrome('/chromedriver.exe')\n",
    "driver.get('https://www.naver.com')\n",
    "\n",
    "name = driver.find_element_by_xpath('//*[@id=\"query\"]')\n",
    "name.send_keys('교보문고')\n",
    "\n",
    "driver.find_element_by_xpath('//*[@id=\"search_btn\"]').click()\n",
    "time.sleep(2)\n",
    "driver.find_element_by_xpath('//*[@id=\"main_pack\"]/div[1]/ul/li/dl/dt/a/b').click()\n",
    "\n",
    "time.sleep(5)\n",
    "\n",
    "driver.close()"
   ]
  },
  {
   "cell_type": "markdown",
   "metadata": {},
   "source": [
    "### 특정 url로 접근했을 때 바로 원하는 정보를 얻을 수 있는 경우\n",
    "- 그냥 바로 접근하면 됨 ( 굳이 복잡한 경로로 접속할 필요 없음)\n",
    "- 그러나 페이스북 같이 특정 조건을 만족해야 추가적인 자료를 보여주는 사이트도 있고\n",
    "- 로그인해야만 자료에 접근할 수 있는 사이트도 있기 때문에\n",
    "- 어떻게 접근해야 원하는 자료를 얻어올 수 있을지는 신중하게 고려해야함"
   ]
  },
  {
   "cell_type": "code",
   "execution_count": 33,
   "metadata": {},
   "outputs": [],
   "source": [
    "driver = webdriver.Chrome('/chromedriver.exe')\n",
    "\n",
    "driver.get('http://www.kyobobook.co.kr/bestSellerNew/bestseller.laf?orderClick=d79')\n",
    "\n",
    "time.sleep(2)\n",
    "\n",
    "driver.close()"
   ]
  },
  {
   "cell_type": "code",
   "execution_count": 86,
   "metadata": {},
   "outputs": [],
   "source": [
    "driver = webdriver.Chrome('/chromedriver.exe')\n",
    "\n",
    "driver.get('http://www.kyobobook.co.kr/bestSellerNew/bestseller.laf?orderClick=d79')\n",
    "\n",
    "html = driver.page_source\n",
    "\n",
    "soup = BeautifulSoup(html,'html.parser')"
   ]
  },
  {
   "cell_type": "code",
   "execution_count": 87,
   "metadata": {},
   "outputs": [],
   "source": [
    "book = soup.find_all('div','detail')"
   ]
  },
  {
   "cell_type": "code",
   "execution_count": null,
   "metadata": {},
   "outputs": [],
   "source": [
    "title = []\n",
    "for i in range(len(book)):\n",
    "    title.append(book[i].find('strong').get_text().strip())"
   ]
  },
  {
   "cell_type": "code",
   "execution_count": 89,
   "metadata": {},
   "outputs": [],
   "source": [
    "author = []\n",
    "for i in range(len(book)):\n",
    "    author.append(book[i].find('div','author').get_text().strip().split('\\n')[0])"
   ]
  },
  {
   "cell_type": "code",
   "execution_count": 101,
   "metadata": {},
   "outputs": [],
   "source": [
    "price = []\n",
    "for i in range(len(book)):\n",
    "    price.append(book[i].find('div','price').find('strong').get_text().strip())"
   ]
  },
  {
   "cell_type": "code",
   "execution_count": 105,
   "metadata": {},
   "outputs": [
    {
     "data": {
      "text/plain": [
       "<div class=\"detail\">\n",
       "<div class=\"subtitle\">\n",
       "\t\t\t\t\t\n",
       "\t\t\t\t\t\t\n",
       "\t\t\t\t\t\t\n",
       "\t\t\t\t\t\t\t부와 행운을 끌어당기는 힘\n",
       "\t\t\t\t\t\t\n",
       "\t\t\t\t\t\n",
       "\t\t\t\t</div>\n",
       "<div class=\"title\">\n",
       "<a href=\"http://www.kyobobook.co.kr/product/detailViewKor.laf?mallGb=KOR&amp;ejkGb=KOR&amp;barcode=9791190382175\"><strong>더 해빙(The Having)(양장본 HardCover)</strong></a>\n",
       "<span class=\"icon\">\n",
       "<img alt=\"무료배송\" src=\"http://image.kyobobook.co.kr/ink/images/common/icon_freere.gif\"/>\n",
       "<img alt=\"이벤트\" src=\"http://image.kyobobook.co.kr/ink/images/common/icon_event03.gif\"/>\n",
       "<img alt=\"오늘의책\" src=\"http://image.kyobobook.co.kr/ink/images/icon/icon_todaybook.gif\"/>\n",
       "<img alt=\"소득공제\" src=\"http://image.kyobobook.co.kr/ink/images/common/icon_m_deduction.gif\"/>\n",
       "</span>\n",
       "</div>\n",
       "<div class=\"author\">\n",
       "\t\t\t\t\t\n",
       "\t\t\t\t\t\t\n",
       "\t\t\t\t\t\t\t이서윤\n",
       "\t\t\t\t\t\t\n",
       "\t\t\t\t\t\t\n",
       "\t\t\t\t\t\n",
       "\t\t\t\t\t\n",
       "\t\t\t\t\t<span class=\"popup_load uxOpenList\">\n",
       "<a class=\"btn_small btn_open\" href=\"#\">저자 더보기</a>\n",
       "<ul class=\"list_author\" style=\"display:none;\">\n",
       "<li>홍주연</li>\n",
       "</ul>\n",
       "</span>\n",
       "<span class=\"line\">|</span> 수오서재\n",
       "\t\t\t\t\t\n",
       "\t\t\t\t\t\t<span class=\"line\">|</span> 2020년 03월 01일\n",
       "\t\t\t\t\t\n",
       "\t\t\t\t</div>\n",
       "<div class=\"review\">\n",
       "<img alt=\"5점 만점에 5점\" src=\"http://image.kyobobook.co.kr/ink/images/common/img_starating_a5.gif\"/>\n",
       "<a href=\"http://www.kyobobook.co.kr/product/detailViewKor.laf?mallGb=KOR&amp;ejkGb=KOR&amp;barcode=9791190382175#review\">(37개의 리뷰가 있습니다)</a>\n",
       "</div>\n",
       "<div class=\"price\">\n",
       "\t\t\t\t\t\n",
       "\t\t\t\t\t\t\n",
       "\t\t\t\t\t\t도서\n",
       "\t\t\t\t\t\t<strong class=\"book_price\">14,400원</strong>\n",
       "<span class=\"dc_rate\">[<strong>10</strong>%↓ + <strong>5</strong>% 적립]</span>\n",
       "<a href=\"javascript:goDetailProductNotAge('EBK','150101','4801190382176','0 ', 'N')\" target=\"_self\">\n",
       "</a>\n",
       "</div>\n",
       "<div class=\"info\">\n",
       "\t\t\t\t\t\t\t\t지금 주문하면 <strong class=\"blue\">05월 23일 출고 예정</strong> 입니다\n",
       "\t\t\t\t\t\t\t</div>\n",
       "</div>"
      ]
     },
     "execution_count": 105,
     "metadata": {},
     "output_type": "execute_result"
    }
   ],
   "source": [
    "book[0]"
   ]
  },
  {
   "cell_type": "code",
   "execution_count": 117,
   "metadata": {},
   "outputs": [
    {
     "data": {
      "text/plain": [
       "[<strong>더 해빙(The Having)(양장본 HardCover)</strong>,\n",
       " <strong class=\"book_price\">14,400원</strong>,\n",
       " <strong>10</strong>,\n",
       " <strong>5</strong>,\n",
       " <strong class=\"blue\">05월 23일 출고 예정</strong>]"
      ]
     },
     "execution_count": 117,
     "metadata": {},
     "output_type": "execute_result"
    }
   ],
   "source": [
    "book[0].find_all('strong')"
   ]
  },
  {
   "cell_type": "code",
   "execution_count": 109,
   "metadata": {},
   "outputs": [
    {
     "data": {
      "text/plain": [
       "'더 해빙(The Having)(양장본 HardCover)'"
      ]
     },
     "execution_count": 109,
     "metadata": {},
     "output_type": "execute_result"
    }
   ],
   "source": [
    "book[0].find('div','title').find('a').find('strong').get_text()"
   ]
  },
  {
   "cell_type": "code",
   "execution_count": 83,
   "metadata": {},
   "outputs": [
    {
     "data": {
      "text/plain": [
       "'이서윤'"
      ]
     },
     "execution_count": 83,
     "metadata": {},
     "output_type": "execute_result"
    }
   ],
   "source": [
    "book[0].find('div','author').get_text().strip().split('\\n')[0]"
   ]
  },
  {
   "cell_type": "code",
   "execution_count": 100,
   "metadata": {},
   "outputs": [
    {
     "data": {
      "text/plain": [
       "'14,400원'"
      ]
     },
     "execution_count": 100,
     "metadata": {},
     "output_type": "execute_result"
    }
   ],
   "source": [
    "book[0].find('div','price').find('strong').get_text().strip()"
   ]
  },
  {
   "cell_type": "code",
   "execution_count": 91,
   "metadata": {},
   "outputs": [],
   "source": [
    "import pandas as pd"
   ]
  },
  {
   "cell_type": "code",
   "execution_count": 102,
   "metadata": {},
   "outputs": [],
   "source": [
    "df = {'title' : title,\n",
    "      'author' : author,\n",
    "      'price' : price}"
   ]
  },
  {
   "cell_type": "code",
   "execution_count": 103,
   "metadata": {},
   "outputs": [],
   "source": [
    "df = pd.DataFrame(df)"
   ]
  },
  {
   "cell_type": "code",
   "execution_count": 123,
   "metadata": {},
   "outputs": [],
   "source": [
    "df.to_csv('gyobo_book1.csv',sep=',',index=False,encoding='UTF-8-sig')"
   ]
  },
  {
   "cell_type": "code",
   "execution_count": 119,
   "metadata": {},
   "outputs": [
    {
     "data": {
      "text/plain": [
       "['.git',\n",
       " '.ipynb_checkpoints',\n",
       " '20200516_python_basic.ipynb',\n",
       " '20200516_주피터노트북_사용법.ipynb',\n",
       " '20200523_crawling.ipynb',\n",
       " 'a.txt',\n",
       " 'gyobo_book.csv']"
      ]
     },
     "execution_count": 119,
     "metadata": {},
     "output_type": "execute_result"
    }
   ],
   "source": [
    "os.listdir('.')"
   ]
  },
  {
   "cell_type": "code",
   "execution_count": 124,
   "metadata": {},
   "outputs": [],
   "source": [
    "import numpy as np"
   ]
  },
  {
   "cell_type": "code",
   "execution_count": 140,
   "metadata": {},
   "outputs": [],
   "source": [
    "driver = webdriver.Chrome('/chromedriver.exe')\n",
    "driver.get('http://www.kyobobook.co.kr/bestSellerNew/bestseller.laf?orderClick=d79')\n",
    "time.sleep(2)\n",
    "driver.find_element_by_xpath('//*[@id=\"main_contents\"]/div[5]/div[1]/ul/li[{}]/a'.format(2)).click()\n",
    "    "
   ]
  },
  {
   "cell_type": "code",
   "execution_count": 143,
   "metadata": {},
   "outputs": [],
   "source": [
    "driver = webdriver.Chrome('/chromedriver.exe')\n",
    "\n",
    "\n",
    "title = []\n",
    "author = []\n",
    "price = []\n",
    "driver.get('http://www.kyobobook.co.kr/bestSellerNew/bestseller.laf?orderClick=d79')\n",
    "for page in [2,3,4,5,6]:\n",
    "    \n",
    "    driver.find_element_by_xpath('//*[@id=\"main_contents\"]/div[5]/div[1]/ul/li[{}]/a'.format(page)).click()\n",
    "    \n",
    "    html = driver.page_source\n",
    "\n",
    "    soup = BeautifulSoup(html)\n",
    "\n",
    "    book = soup.find_all('div','detail')\n",
    "\n",
    "    \n",
    "    for i in range(len(book)):\n",
    "        title.append(book[i].find('strong').get_text().strip())\n",
    "\n",
    "    \n",
    "    for i in range(len(book)):\n",
    "        author.append(book[i].find('div','author').get_text().strip().split('\\n')[0])\n",
    "\n",
    "    \n",
    "    for i in range(len(book)):\n",
    "        price.append(book[i].find('div','price').find('strong').get_text().strip())\n",
    "    \n",
    "    \n"
   ]
  },
  {
   "cell_type": "code",
   "execution_count": 147,
   "metadata": {},
   "outputs": [],
   "source": [
    "df = {'title' : title,\n",
    "      'author' : author,\n",
    "      'price' : price}"
   ]
  },
  {
   "cell_type": "code",
   "execution_count": 148,
   "metadata": {},
   "outputs": [
    {
     "data": {
      "text/html": [
       "<div>\n",
       "<style scoped>\n",
       "    .dataframe tbody tr th:only-of-type {\n",
       "        vertical-align: middle;\n",
       "    }\n",
       "\n",
       "    .dataframe tbody tr th {\n",
       "        vertical-align: top;\n",
       "    }\n",
       "\n",
       "    .dataframe thead th {\n",
       "        text-align: right;\n",
       "    }\n",
       "</style>\n",
       "<table border=\"1\" class=\"dataframe\">\n",
       "  <thead>\n",
       "    <tr style=\"text-align: right;\">\n",
       "      <th></th>\n",
       "      <th>title</th>\n",
       "      <th>author</th>\n",
       "      <th>price</th>\n",
       "    </tr>\n",
       "  </thead>\n",
       "  <tbody>\n",
       "    <tr>\n",
       "      <th>0</th>\n",
       "      <td>선물주는산타의 주식투자 시크릿</td>\n",
       "      <td>선물주는산타</td>\n",
       "      <td>14,400원</td>\n",
       "    </tr>\n",
       "    <tr>\n",
       "      <th>1</th>\n",
       "      <td>초예측 부의 미래(양장본 HardCover)</td>\n",
       "      <td>마루야마 슌이치</td>\n",
       "      <td>13,500원</td>\n",
       "    </tr>\n",
       "    <tr>\n",
       "      <th>2</th>\n",
       "      <td>이미 어쩔 수 없는 힘듦이 내게 찾아왔다면</td>\n",
       "      <td>글배우</td>\n",
       "      <td>12,150원</td>\n",
       "    </tr>\n",
       "    <tr>\n",
       "      <th>3</th>\n",
       "      <td>반일 종족주의와의 투쟁</td>\n",
       "      <td>이영훈</td>\n",
       "      <td>18,000원</td>\n",
       "    </tr>\n",
       "    <tr>\n",
       "      <th>4</th>\n",
       "      <td>앞으로 3년, 대담한 투자</td>\n",
       "      <td>최윤식</td>\n",
       "      <td>13,500원</td>\n",
       "    </tr>\n",
       "    <tr>\n",
       "      <th>...</th>\n",
       "      <td>...</td>\n",
       "      <td>...</td>\n",
       "      <td>...</td>\n",
       "    </tr>\n",
       "    <tr>\n",
       "      <th>95</th>\n",
       "      <td>귀멸의 칼날. 17</td>\n",
       "      <td>고토게 코요하루</td>\n",
       "      <td>4,500원</td>\n",
       "    </tr>\n",
       "    <tr>\n",
       "      <th>96</th>\n",
       "      <td>사랑 밖의 모든 말들</td>\n",
       "      <td>김금희</td>\n",
       "      <td>12,150원</td>\n",
       "    </tr>\n",
       "    <tr>\n",
       "      <th>97</th>\n",
       "      <td>시하와 칸타의 장: 마트 이야기(현대문학 핀 시리즈 소설선 25)(양장본 HardC...</td>\n",
       "      <td>이영도</td>\n",
       "      <td>11,700원</td>\n",
       "    </tr>\n",
       "    <tr>\n",
       "      <th>98</th>\n",
       "      <td>뉴턴의 아틀리에</td>\n",
       "      <td>김상욱</td>\n",
       "      <td>17,100원</td>\n",
       "    </tr>\n",
       "    <tr>\n",
       "      <th>99</th>\n",
       "      <td>우리가 인생이라 부르는 것들</td>\n",
       "      <td>정재찬</td>\n",
       "      <td>14,400원</td>\n",
       "    </tr>\n",
       "  </tbody>\n",
       "</table>\n",
       "<p>100 rows × 3 columns</p>\n",
       "</div>"
      ],
      "text/plain": [
       "                                                title    author    price\n",
       "0                                    선물주는산타의 주식투자 시크릿    선물주는산타  14,400원\n",
       "1                            초예측 부의 미래(양장본 HardCover)  마루야마 슌이치  13,500원\n",
       "2                             이미 어쩔 수 없는 힘듦이 내게 찾아왔다면       글배우  12,150원\n",
       "3                                        반일 종족주의와의 투쟁       이영훈  18,000원\n",
       "4                                      앞으로 3년, 대담한 투자       최윤식  13,500원\n",
       "..                                                ...       ...      ...\n",
       "95                                         귀멸의 칼날. 17  고토게 코요하루   4,500원\n",
       "96                                        사랑 밖의 모든 말들       김금희  12,150원\n",
       "97  시하와 칸타의 장: 마트 이야기(현대문학 핀 시리즈 소설선 25)(양장본 HardC...       이영도  11,700원\n",
       "98                                           뉴턴의 아틀리에       김상욱  17,100원\n",
       "99                                    우리가 인생이라 부르는 것들       정재찬  14,400원\n",
       "\n",
       "[100 rows x 3 columns]"
      ]
     },
     "execution_count": 148,
     "metadata": {},
     "output_type": "execute_result"
    }
   ],
   "source": [
    "pd.DataFrame(df)"
   ]
  },
  {
   "cell_type": "code",
   "execution_count": 149,
   "metadata": {},
   "outputs": [],
   "source": [
    "driver = webdriver.Chrome('/chromedriver.exe')\n",
    "\n",
    "driver.get('https://www.aladin.co.kr/shop/common/wbest.aspx?BranchType=1&start=we')\n",
    "\n",
    "html = driver.page_source"
   ]
  },
  {
   "cell_type": "code",
   "execution_count": 150,
   "metadata": {},
   "outputs": [],
   "source": [
    "soup = BeautifulSoup(html)"
   ]
  },
  {
   "cell_type": "code",
   "execution_count": 157,
   "metadata": {},
   "outputs": [
    {
     "data": {
      "text/plain": [
       "'소년이 온다 (특별한정판, 양장)'"
      ]
     },
     "execution_count": 157,
     "metadata": {},
     "output_type": "execute_result"
    }
   ],
   "source": [
    "soup.find_all('div','ss_book_box')[0].find('tbody').find('b').get_text().strip()"
   ]
  },
  {
   "cell_type": "code",
   "execution_count": 158,
   "metadata": {},
   "outputs": [],
   "source": [
    "book = soup.find_all('div','ss_book_box')"
   ]
  },
  {
   "cell_type": "code",
   "execution_count": 162,
   "metadata": {},
   "outputs": [
    {
     "data": {
      "text/plain": [
       "100"
      ]
     },
     "execution_count": 162,
     "metadata": {},
     "output_type": "execute_result"
    }
   ],
   "source": [
    "len(soup.find_all('div','ss_book_list'))"
   ]
  },
  {
   "cell_type": "code",
   "execution_count": 168,
   "metadata": {},
   "outputs": [
    {
     "data": {
      "text/plain": [
       "50"
      ]
     },
     "execution_count": 168,
     "metadata": {},
     "output_type": "execute_result"
    }
   ],
   "source": [
    "len(soup.find_all('a','bo3'))"
   ]
  },
  {
   "cell_type": "code",
   "execution_count": 169,
   "metadata": {},
   "outputs": [],
   "source": [
    "book = soup.find_all('a','bo3')"
   ]
  },
  {
   "cell_type": "code",
   "execution_count": 176,
   "metadata": {},
   "outputs": [],
   "source": [
    "title = []\n",
    "for i in np.arange(len(book)):\n",
    "    title.append(book[i].get_text().strip())"
   ]
  },
  {
   "cell_type": "code",
   "execution_count": 180,
   "metadata": {},
   "outputs": [
    {
     "data": {
      "text/plain": [
       "'11,700원'"
      ]
     },
     "execution_count": 180,
     "metadata": {},
     "output_type": "execute_result"
    }
   ],
   "source": [
    "soup.find_all('span','ss_p2')[0].get_text()"
   ]
  },
  {
   "cell_type": "code",
   "execution_count": null,
   "metadata": {},
   "outputs": [],
   "source": [
    "# //*[@id=\"newbg_body\"]/div[4]/ul/li[3]/a\n",
    "# //*[@id=\"newbg_body\"]/div[4]/ul/li[4]/a\n",
    "# //*[@id=\"newbg_body\"]/div[4]/ul/li[5]/a"
   ]
  },
  {
   "cell_type": "code",
   "execution_count": 182,
   "metadata": {},
   "outputs": [],
   "source": [
    "driver = webdriver.Chrome('/chromedriver.exe')\n",
    "\n",
    "title = []\n",
    "price = []\n",
    "soup.find_all('div','ss_book_box')[0].find('tbody').find('b').get_text().strip()\n",
    "for i in np.arange(1,5):\n",
    "    driver.get('https://www.aladin.co.kr/shop/common/wbest.aspx?BestType=Bestseller&BranchType=1&CID=0&page={}&cnt=1000&SortOrder=1'.format(i))\n",
    "    html = driver.page_source\n",
    "    soup = BeautifulSoup(html)\n",
    "    title_list = soup.find_all('div','ss_book_box')\n",
    "    price_list = soup.find_all('span','ss_p2')\n",
    "    for idx,j in enumerate(title_list):\n",
    "        title.append(j.find('tbody').find('b').get_text().strip())\n",
    "    for idx,j in enumerate(price_list):\n",
    "        price.append(j.get_text())"
   ]
  },
  {
   "cell_type": "code",
   "execution_count": 185,
   "metadata": {},
   "outputs": [],
   "source": [
    "dict_ = {\"title\" : title,\n",
    "         \"price\" : price}"
   ]
  },
  {
   "cell_type": "code",
   "execution_count": 210,
   "metadata": {
    "scrolled": true
   },
   "outputs": [],
   "source": [
    "df = pd.DataFrame(dict_).sort_values(by='price').reset_index(drop=True)"
   ]
  },
  {
   "cell_type": "markdown",
   "metadata": {},
   "source": [
    "### codecs 라이브러리\n",
    "\n",
    "- 파이썬 3.5버전 들어서 내장 라이브러리로 바뀜(예전에는 pip로 설치해야 했었음)\n",
    "- 파이썬으로 텍스트파일을 제어할 수 있도록(읽어오기, 쓰기) 도와줌\n",
    "- 콘솔창에 출력된 내용을 txt파일로 옮겨서 출력할때 사용\n",
    "<br><br>\n",
    "- 특이사항\n",
    "    - 개행은 \\r\\n으로 처리함\n",
    "    - mode => w(기존에 있던 자료 없애고 새 파일 입력)\n",
    "    - mode => a(기존에 있던 자료에 이어서 계속 입력)\n",
    "    - mode => r(텍스트파일에 있던 내용 읽어오기)"
   ]
  },
  {
   "cell_type": "code",
   "execution_count": 190,
   "metadata": {},
   "outputs": [],
   "source": [
    "import codecs"
   ]
  },
  {
   "cell_type": "code",
   "execution_count": 191,
   "metadata": {},
   "outputs": [
    {
     "data": {
      "text/plain": [
       "['.git',\n",
       " '.ipynb_checkpoints',\n",
       " '20200516_python_basic.ipynb',\n",
       " '20200516_주피터노트북_사용법.ipynb',\n",
       " '20200523_crawling.ipynb',\n",
       " 'a.txt',\n",
       " 'gyobo_book.csv',\n",
       " 'gyobo_book1.csv']"
      ]
     },
     "execution_count": 191,
     "metadata": {},
     "output_type": "execute_result"
    }
   ],
   "source": [
    "os.listdir('.')"
   ]
  },
  {
   "cell_type": "code",
   "execution_count": 206,
   "metadata": {},
   "outputs": [],
   "source": [
    "# f 변수가 텍스트파일 그 자체처럼 사용됨.\n",
    "# .open(파일경로(파일이 경로에 없으면 생성, encoding='인코딩방식',mode='모드'))\n",
    "f = codecs.open('./test.txt',encoding='utf-8',mode='a')\n",
    "\n",
    "# .write('적을 내용')을 실행하면 텍스트파일 내부에 문자열이 입력된다.\n",
    "for i in range(10):\n",
    "    f.write('hello world\\n')\n",
    "\n",
    "# 파일 닫기(항상 가장 마지막줄에 배치)\n",
    "f.close()"
   ]
  },
  {
   "cell_type": "code",
   "execution_count": 209,
   "metadata": {},
   "outputs": [
    {
     "name": "stdout",
     "output_type": "stream",
     "text": [
      "['hello world hello world hello world hello world hello world hello world hello world hello world hello world hello world hello world hello world hello world hello world hello world hello world hello world hello world hello world hello world hello world hello world hello world hello world hello world hello world hello world hello world hello world hello world hello world hello world hello world hello world hello world hello world hello world hello world hello world hello world hello world hello world hello world hello world hello world hello world hello world hello world hello world hello world hello world hello world hello world hello world hello world hello world hello world hello world hello world hello world hello world hello world hello world hello world hello world hello world hello world hello world hello world hello world hello world\\n', 'hello world\\n', 'hello world\\n', 'hello world\\n', 'hello world\\n', 'hello world\\n', 'hello world\\n', 'hello world\\n', 'hello world\\n', 'hello world\\n', 'hello world\\n', 'hello world\\n', 'hello world\\n', 'hello world\\n', 'hello world\\n', 'hello world\\n', 'hello world\\n', 'hello world\\n', 'hello world\\n', 'hello world\\n', 'hello world\\n', 'hello world\\n', 'hello world\\n', 'hello world\\n', 'hello world\\n', 'hello world\\n', 'hello world\\n', 'hello world\\n', 'hello world\\n', 'hello world\\n', 'hello world\\n', 'hello world\\n', 'hello world\\n', 'hello world\\n', 'hello world\\n', 'hello world\\n', 'hello world\\n', 'hello world\\n', 'hello world\\n', 'hello world\\n', 'hello world\\n', 'hello world\\n', 'hello world\\n', 'hello world\\n', 'hello world\\n', 'hello world\\n', 'hello world\\n', 'hello world\\n', 'hello world\\n', 'hello world\\n']\n"
     ]
    }
   ],
   "source": [
    "# 기존의 텍스트자료 읽어오기\n",
    "f = codecs.open('./test.txt',encoding='utf-8',mode='r')\n",
    "print(f.readlines())\n",
    "f.close()"
   ]
  },
  {
   "cell_type": "code",
   "execution_count": 214,
   "metadata": {},
   "outputs": [
    {
     "name": "stdout",
     "output_type": "stream",
     "text": [
      "['데일 카네기 인간관계론' '10,350원']\n"
     ]
    }
   ],
   "source": [
    "print(df.iloc[0].values)"
   ]
  },
  {
   "cell_type": "code",
   "execution_count": 217,
   "metadata": {},
   "outputs": [],
   "source": [
    "f = codecs.open('./result_kyobo.txt',encoding='utf-8',mode='w')\n",
    "for i in range(20):\n",
    "    f.write(df.iloc[i].values[0]+\",\"+df.iloc[i].values[1])\n",
    "    f.write('\\n')\n",
    "f.close()"
   ]
  },
  {
   "cell_type": "markdown",
   "metadata": {},
   "source": [
    "## 순회 크롤러\n",
    "    - 같은 양식의 페이지를 순회화하면서 자료를 수집해오는 크롤러\n",
    "    - 원 페이지 크롤러를 제작한 다음, 완성된 크롤러를 반복문에 넣어서 만든다.\n",
    "    - 반복을 어디부터 돌릴지에 대한 파악이 제일 중요하다."
   ]
  },
  {
   "cell_type": "code",
   "execution_count": 220,
   "metadata": {},
   "outputs": [],
   "source": [
    "driver = webdriver.Chrome('/chromedriver.exe')\n",
    "\n",
    "\n",
    "title = []\n",
    "author = []\n",
    "price = []\n",
    "driver.get('http://www.kyobobook.co.kr/bestSellerNew/bestseller.laf?orderClick=d79')\n",
    "for page in np.arange(1,11):\n",
    "    bool_ = True\n",
    "    if page == 1:\n",
    "        bool_ = False\n",
    "    if bool_:\n",
    "        driver.find_element_by_xpath('//*[@id=\"main_contents\"]/div[5]/div[1]/ul/li[{}]/a'.format(page)).click()\n",
    "    \n",
    "    html = driver.page_source\n",
    "\n",
    "    soup = BeautifulSoup(html)\n",
    "\n",
    "    book = soup.find_all('div','detail')\n",
    "\n",
    "    \n",
    "    for i in range(len(book)):\n",
    "        title.append(book[i].find('strong').get_text().strip())\n",
    "\n",
    "    \n",
    "    for i in range(len(book)):\n",
    "        author.append(book[i].find('div','author').get_text().strip().split('\\n')[0])\n",
    "\n",
    "    \n",
    "    for i in range(len(book)):\n",
    "        price.append(book[i].find('div','price').find('strong').get_text().strip())\n",
    "    \n",
    "    \n"
   ]
  },
  {
   "cell_type": "code",
   "execution_count": 222,
   "metadata": {},
   "outputs": [],
   "source": [
    "df = pd.DataFrame({'title' : title,\n",
    "                   'author' : author,\n",
    "                   'price' : price})"
   ]
  },
  {
   "cell_type": "code",
   "execution_count": 226,
   "metadata": {},
   "outputs": [
    {
     "data": {
      "text/html": [
       "<div>\n",
       "<style scoped>\n",
       "    .dataframe tbody tr th:only-of-type {\n",
       "        vertical-align: middle;\n",
       "    }\n",
       "\n",
       "    .dataframe tbody tr th {\n",
       "        vertical-align: top;\n",
       "    }\n",
       "\n",
       "    .dataframe thead th {\n",
       "        text-align: right;\n",
       "    }\n",
       "</style>\n",
       "<table border=\"1\" class=\"dataframe\">\n",
       "  <thead>\n",
       "    <tr style=\"text-align: right;\">\n",
       "      <th></th>\n",
       "      <th>title</th>\n",
       "      <th>author</th>\n",
       "      <th>price</th>\n",
       "    </tr>\n",
       "  </thead>\n",
       "  <tbody>\n",
       "    <tr>\n",
       "      <th>0</th>\n",
       "      <td>더 해빙(The Having)(양장본 HardCover)</td>\n",
       "      <td>이서윤</td>\n",
       "      <td>14,400원</td>\n",
       "    </tr>\n",
       "    <tr>\n",
       "      <th>1</th>\n",
       "      <td>이번 달은 뉴요커</td>\n",
       "      <td>홍세림</td>\n",
       "      <td>17,550원</td>\n",
       "    </tr>\n",
       "    <tr>\n",
       "      <th>2</th>\n",
       "      <td>지리의 힘</td>\n",
       "      <td>팀 마샬</td>\n",
       "      <td>15,300원</td>\n",
       "    </tr>\n",
       "    <tr>\n",
       "      <th>3</th>\n",
       "      <td>제11회 젊은작가상 수상작품집(2020)</td>\n",
       "      <td>강화길</td>\n",
       "      <td>4,950원</td>\n",
       "    </tr>\n",
       "    <tr>\n",
       "      <th>4</th>\n",
       "      <td>1cm 다이빙</td>\n",
       "      <td>태수</td>\n",
       "      <td>12,150원</td>\n",
       "    </tr>\n",
       "    <tr>\n",
       "      <th>...</th>\n",
       "      <td>...</td>\n",
       "      <td>...</td>\n",
       "      <td>...</td>\n",
       "    </tr>\n",
       "    <tr>\n",
       "      <th>192</th>\n",
       "      <td>당신의 삶에 명상이 필요할 때</td>\n",
       "      <td>앤디 퍼디컴</td>\n",
       "      <td>14,850원</td>\n",
       "    </tr>\n",
       "    <tr>\n",
       "      <th>193</th>\n",
       "      <td>놓지 마 과학!. 13: 정신이 미세 먼지에 정신 놓다</td>\n",
       "      <td>신태훈</td>\n",
       "      <td>10,800원</td>\n",
       "    </tr>\n",
       "    <tr>\n",
       "      <th>194</th>\n",
       "      <td>제주에서 혼자 살고 술은 약해요(문학동네시인선 135)</td>\n",
       "      <td>이원하</td>\n",
       "      <td>9,000원</td>\n",
       "    </tr>\n",
       "    <tr>\n",
       "      <th>195</th>\n",
       "      <td>이게 정말 마음일까?(양장본 HardCover)</td>\n",
       "      <td>요시타케 신스케</td>\n",
       "      <td>11,700원</td>\n",
       "    </tr>\n",
       "    <tr>\n",
       "      <th>196</th>\n",
       "      <td>배움의 발견</td>\n",
       "      <td>타라 웨스트오버</td>\n",
       "      <td>16,200원</td>\n",
       "    </tr>\n",
       "  </tbody>\n",
       "</table>\n",
       "<p>197 rows × 3 columns</p>\n",
       "</div>"
      ],
      "text/plain": [
       "                               title    author    price\n",
       "0    더 해빙(The Having)(양장본 HardCover)       이서윤  14,400원\n",
       "1                          이번 달은 뉴요커       홍세림  17,550원\n",
       "2                              지리의 힘      팀 마샬  15,300원\n",
       "3             제11회 젊은작가상 수상작품집(2020)       강화길   4,950원\n",
       "4                            1cm 다이빙        태수  12,150원\n",
       "..                               ...       ...      ...\n",
       "192                 당신의 삶에 명상이 필요할 때    앤디 퍼디컴  14,850원\n",
       "193   놓지 마 과학!. 13: 정신이 미세 먼지에 정신 놓다       신태훈  10,800원\n",
       "194   제주에서 혼자 살고 술은 약해요(문학동네시인선 135)       이원하   9,000원\n",
       "195       이게 정말 마음일까?(양장본 HardCover)  요시타케 신스케  11,700원\n",
       "196                           배움의 발견  타라 웨스트오버  16,200원\n",
       "\n",
       "[197 rows x 3 columns]"
      ]
     },
     "execution_count": 226,
     "metadata": {},
     "output_type": "execute_result"
    }
   ],
   "source": [
    "df"
   ]
  }
 ],
 "metadata": {
  "kernelspec": {
   "display_name": "tf-gpu",
   "language": "python",
   "name": "tf2.0-gpu"
  },
  "language_info": {
   "codemirror_mode": {
    "name": "ipython",
    "version": 3
   },
   "file_extension": ".py",
   "mimetype": "text/x-python",
   "name": "python",
   "nbconvert_exporter": "python",
   "pygments_lexer": "ipython3",
   "version": "3.7.2"
  }
 },
 "nbformat": 4,
 "nbformat_minor": 4
}
