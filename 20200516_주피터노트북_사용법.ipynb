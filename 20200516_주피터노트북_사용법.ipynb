{
  "nbformat": 4,
  "nbformat_minor": 0,
  "metadata": {
    "colab": {
      "name": "20200516_주피터노트북_사용법.ipynb",
      "provenance": [],
      "collapsed_sections": [],
      "machine_shape": "hm",
      "mount_file_id": "1Hl-Sa9poy-ko90uXZBrEdYx4w3O7qwhi",
      "authorship_tag": "ABX9TyOd2plygg2eRf/3+ff0xpTG",
      "include_colab_link": true
    },
    "kernelspec": {
      "name": "python3",
      "display_name": "Python 3"
    }
  },
  "cells": [
    {
      "cell_type": "markdown",
      "metadata": {
        "id": "view-in-github",
        "colab_type": "text"
      },
      "source": [
        "<a href=\"https://colab.research.google.com/github/changhtun1/Python_Project_kgitbank/blob/master/20200516_%EC%A3%BC%ED%94%BC%ED%84%B0%EB%85%B8%ED%8A%B8%EB%B6%81_%EC%82%AC%EC%9A%A9%EB%B2%95.ipynb\" target=\"_parent\"><img src=\"https://colab.research.google.com/assets/colab-badge.svg\" alt=\"Open In Colab\"/></a>"
      ]
    },
    {
      "cell_type": "code",
      "metadata": {
        "id": "lHPYa1scyP6S",
        "colab_type": "code",
        "colab": {}
      },
      "source": [
        "import os"
      ],
      "execution_count": 0,
      "outputs": []
    },
    {
      "cell_type": "code",
      "metadata": {
        "id": "ksOZQHelzPYD",
        "colab_type": "code",
        "colab": {
          "base_uri": "https://localhost:8080/",
          "height": 404
        },
        "outputId": "69c6fe70-a48e-4ceb-b13e-cd87f9ad70c4"
      },
      "source": [
        "os.listdir('./drive/My Drive')"
      ],
      "execution_count": 4,
      "outputs": [
        {
          "output_type": "execute_result",
          "data": {
            "text/plain": [
              "['Colab Notebooks',\n",
              " 'test',\n",
              " 'MLP.ipynb',\n",
              " 'CNN.ipynb',\n",
              " 'Untitled0.ipynb',\n",
              " 'KUCC20-1_1.ipynb',\n",
              " '2_3_Transfer_IDG.ipynb',\n",
              " '2_1_TransferLearning.ipynb',\n",
              " '2_2_ImageDataGenerator.ipynb',\n",
              " 'adlImdb',\n",
              " 'glove.6B.100d.txt',\n",
              " 'auto_drive_data',\n",
              " 'dataset1',\n",
              " 'GTSRB',\n",
              " 'AutoDriving.ipynb',\n",
              " 'AMZN.csv',\n",
              " 'a943287.csv',\n",
              " 'man_girl.csv',\n",
              " 'man_girl_file.csv',\n",
              " 'man_girl_file1.csv',\n",
              " 'python_project',\n",
              " '.ipynb_checkpoints']"
            ]
          },
          "metadata": {
            "tags": []
          },
          "execution_count": 4
        }
      ]
    },
    {
      "cell_type": "code",
      "metadata": {
        "id": "mqSoOdqsA21S",
        "colab_type": "code",
        "colab": {
          "base_uri": "https://localhost:8080/",
          "height": 34
        },
        "outputId": "1a0b1225-0821-4055-ce56-27eed6963f1a"
      },
      "source": [
        "!git clone https://github.com/changhtun1/Python_Project_kgitbank.git"
      ],
      "execution_count": 7,
      "outputs": [
        {
          "output_type": "stream",
          "text": [
            "fatal: destination path 'Python_Project_kgitbank' already exists and is not an empty directory.\n"
          ],
          "name": "stdout"
        }
      ]
    },
    {
      "cell_type": "code",
      "metadata": {
        "id": "lI3tNnkFDSXI",
        "colab_type": "code",
        "colab": {}
      },
      "source": [
        ""
      ],
      "execution_count": 0,
      "outputs": []
    }
  ]
}