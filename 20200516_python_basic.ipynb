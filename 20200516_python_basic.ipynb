{
  "nbformat": 4,
  "nbformat_minor": 0,
  "metadata": {
    "colab": {
      "name": "20200516_파이썬기초_데이터타입(숫자).ipynb",
      "provenance": [],
      "collapsed_sections": []
    },
    "kernelspec": {
      "name": "python3",
      "display_name": "Python 3"
    }
  },
  "cells": [
    {
      "cell_type": "code",
      "metadata": {
        "id": "lHPYa1scyP6S",
        "colab_type": "code",
        "colab": {}
      },
      "source": [
        "import os"
      ],
      "execution_count": 0,
      "outputs": []
    },
    {
      "cell_type": "code",
      "metadata": {
        "id": "ksOZQHelzPYD",
        "colab_type": "code",
        "colab": {
          "base_uri": "https://localhost:8080/",
          "height": 404
        },
        "outputId": "69c6fe70-a48e-4ceb-b13e-cd87f9ad70c4"
      },
      "source": [
        "os.listdir('./drive/My Drive')"
      ],
      "execution_count": 4,
      "outputs": [
        {
          "output_type": "execute_result",
          "data": {
            "text/plain": [
              "['Colab Notebooks',\n",
              " 'test',\n",
              " 'MLP.ipynb',\n",
              " 'CNN.ipynb',\n",
              " 'Untitled0.ipynb',\n",
              " 'KUCC20-1_1.ipynb',\n",
              " '2_3_Transfer_IDG.ipynb',\n",
              " '2_1_TransferLearning.ipynb',\n",
              " '2_2_ImageDataGenerator.ipynb',\n",
              " 'adlImdb',\n",
              " 'glove.6B.100d.txt',\n",
              " 'auto_drive_data',\n",
              " 'dataset1',\n",
              " 'GTSRB',\n",
              " 'AutoDriving.ipynb',\n",
              " 'AMZN.csv',\n",
              " 'a943287.csv',\n",
              " 'man_girl.csv',\n",
              " 'man_girl_file.csv',\n",
              " 'man_girl_file1.csv',\n",
              " 'python_project',\n",
              " '.ipynb_checkpoints']"
            ]
          },
          "metadata": {
            "tags": []
          },
          "execution_count": 4
        }
      ]
    },
    {
      "cell_type": "code",
      "metadata": {
        "id": "mqSoOdqsA21S",
        "colab_type": "code",
        "colab": {
          "base_uri": "https://localhost:8080/",
          "height": 34
        },
        "outputId": "1a0b1225-0821-4055-ce56-27eed6963f1a"
      },
      "source": [
        "!git clone https://github.com/changhtun1/Python_Project_kgitbank.git"
      ],
      "execution_count": 7,
      "outputs": [
        {
          "output_type": "stream",
          "text": [
            "fatal: destination path 'Python_Project_kgitbank' already exists and is not an empty directory.\n"
          ],
          "name": "stdout"
        }
      ]
    },
    {
      "cell_type": "markdown",
      "metadata": {
        "id": "lI3tNnkFDSXI",
        "colab_type": "text"
      },
      "source": [
        "# 주피터 노트북 필기\n",
        "## #키를 이용하면 글씨 크기 조절이 가능합니다\n",
        "### # 갯수가 많아지면 많아질수록 \n",
        "#### 글씨 크기는 작아집니다.\n",
        "###### # 은 6개까지 쓸 수 있습니다.\n",
        "\n",
        "- 나열해서 필기하고 싶다면\n",
        "- - 한칸 뒤에 필기를 합니다.\n",
        "- 이렇게 나열이 됩니다.\n",
        "  + - + - 를 붙이면 도트아래에 하위 항목으로 간주됩니다.\n",
        "    + - 한번더 tab과 +- 는 하위항목에 하위항목을 만듭니다."
      ]
    },
    {
      "cell_type": "markdown",
      "metadata": {
        "id": "pLZ8JGQQJD6A",
        "colab_type": "text"
      },
      "source": [
        "# 데이터 타입\n",
        "## > 숫자형\n",
        "- 종류\n",
        "    - 정수 : 0, 양수, 음수인 숫자\n",
        "    - 실수 : 소숫점을 포함하는 숫자\n",
        "    - 8진수 (0o 또는 00(대문자o)로 시작 : 0o34, 0o25\n",
        "    - 16진수 (0x) : 0x2A, 0xFF"
      ]
    },
    {
      "cell_type": "code",
      "metadata": {
        "id": "23XJAmyNJnpF",
        "colab_type": "code",
        "colab": {}
      },
      "source": [
        ""
      ],
      "execution_count": 0,
      "outputs": []
    },
    {
      "cell_type": "code",
      "metadata": {
        "id": "J8TgWLcULLc6",
        "colab_type": "code",
        "colab": {}
      },
      "source": [
        "# 양수, 음수 0\n",
        "a = 10\n",
        "b= -20\n",
        "c= 0"
      ],
      "execution_count": 0,
      "outputs": []
    },
    {
      "cell_type": "code",
      "metadata": {
        "id": "OMofzgpsLLfu",
        "colab_type": "code",
        "colab": {
          "base_uri": "https://localhost:8080/",
          "height": 70
        },
        "outputId": "93b37d96-d0c7-48a5-8027-00899154cd71"
      },
      "source": [
        "# 정수 타입 : 타입(데이터 종류)를 확인 하는 내장함수   type()\n",
        "print(type(a))\n",
        "print(type(b))\n",
        "print(type(c))\n"
      ],
      "execution_count": 10,
      "outputs": [
        {
          "output_type": "stream",
          "text": [
            "<class 'int'>\n",
            "<class 'int'>\n",
            "<class 'int'>\n"
          ],
          "name": "stdout"
        }
      ]
    },
    {
      "cell_type": "code",
      "metadata": {
        "id": "l03ObcWHLLik",
        "colab_type": "code",
        "colab": {}
      },
      "source": [
        "# 양의 실수, 음의 실수 : float\n",
        "a = 1.3\n",
        "b = -2.4\n",
        "c = 0.0"
      ],
      "execution_count": 0,
      "outputs": []
    },
    {
      "cell_type": "code",
      "metadata": {
        "id": "w0E-61MmLLlF",
        "colab_type": "code",
        "colab": {
          "base_uri": "https://localhost:8080/",
          "height": 70
        },
        "outputId": "536a4846-aa0b-42db-d2da-85646923ac33"
      },
      "source": [
        "print(type(a))\n",
        "print(type(b))\n",
        "print(type(c))"
      ],
      "execution_count": 12,
      "outputs": [
        {
          "output_type": "stream",
          "text": [
            "<class 'float'>\n",
            "<class 'float'>\n",
            "<class 'float'>\n"
          ],
          "name": "stdout"
        }
      ]
    },
    {
      "cell_type": "code",
      "metadata": {
        "id": "r1SkKmurLLnG",
        "colab_type": "code",
        "colab": {
          "base_uri": "https://localhost:8080/",
          "height": 34
        },
        "outputId": "8df74bda-11c5-43a6-96af-ea8b45e741b2"
      },
      "source": [
        "print(type(0),type(0.0))"
      ],
      "execution_count": 1,
      "outputs": [
        {
          "output_type": "stream",
          "text": [
            "<class 'int'> <class 'float'>\n"
          ],
          "name": "stdout"
        }
      ]
    },
    {
      "cell_type": "code",
      "metadata": {
        "id": "CtfnxC7WQjZI",
        "colab_type": "code",
        "colab": {}
      },
      "source": [
        ""
      ],
      "execution_count": 0,
      "outputs": []
    },
    {
      "cell_type": "markdown",
      "metadata": {
        "id": "y9gnxL_4Qj7B",
        "colab_type": "text"
      },
      "source": [
        "## > 연산자\n",
        "\n",
        "- 산술 : +,-,*,/,//(목) ,%(나머지) , **(제곱)\n",
        "- 비교 : == 값이 같은지, != (값이 다른지), <=, >=,<,>\n",
        "- 논리 : and, or\n",
        "- 할당 : =, +=(누적합), -=(누적차), *=(누적곱) ,/=(몫만남기기), %=(나머지만 남기기)"
      ]
    },
    {
      "cell_type": "markdown",
      "metadata": {
        "id": "JlfnPybGSCEX",
        "colab_type": "text"
      },
      "source": [
        "# 1) 산술연산자 : 숫자를 계산하기 위한 문법 기호"
      ]
    },
    {
      "cell_type": "code",
      "metadata": {
        "id": "ANIpwLkfSGe-",
        "colab_type": "code",
        "colab": {
          "base_uri": "https://localhost:8080/",
          "height": 34
        },
        "outputId": "aa41005c-dba6-4bbc-a324-ea6590ec96d8"
      },
      "source": [
        "# 더하기 : + \n",
        "10 + 3 "
      ],
      "execution_count": 2,
      "outputs": [
        {
          "output_type": "execute_result",
          "data": {
            "text/plain": [
              "13"
            ]
          },
          "metadata": {
            "tags": []
          },
          "execution_count": 2
        }
      ]
    },
    {
      "cell_type": "code",
      "metadata": {
        "id": "LVAJUcrokjbG",
        "colab_type": "code",
        "colab": {
          "base_uri": "https://localhost:8080/",
          "height": 52
        },
        "outputId": "da0cc0bc-2718-4c41-8348-6f8d2b54d9c9"
      },
      "source": [
        "import numpy as np\n",
        "np.linspace(0,10,20)\n",
        "import matplotlib.pyplot as plt\n",
        "import seaborn as sns"
      ],
      "execution_count": 10,
      "outputs": [
        {
          "output_type": "stream",
          "text": [
            "/usr/local/lib/python3.6/dist-packages/statsmodels/tools/_testing.py:19: FutureWarning: pandas.util.testing is deprecated. Use the functions in the public API at pandas.testing instead.\n",
            "  import pandas.util.testing as tm\n"
          ],
          "name": "stderr"
        }
      ]
    },
    {
      "cell_type": "code",
      "metadata": {
        "id": "aXt2O2SCnYxc",
        "colab_type": "code",
        "colab": {}
      },
      "source": [
        "x = np.linspace(0,10,10)\n",
        "y = 3*x"
      ],
      "execution_count": 0,
      "outputs": []
    },
    {
      "cell_type": "code",
      "metadata": {
        "id": "fpmDOqJonQKL",
        "colab_type": "code",
        "colab": {
          "base_uri": "https://localhost:8080/",
          "height": 342
        },
        "outputId": "d312a493-60c6-41e6-9d74-28b7e57a7ac0"
      },
      "source": [
        "f,ax=plt.subplots(1,2,figsize=(5,5))\n",
        "ax[0].plot(x,y)\n",
        "# ax[1].plot(x,y**2)\n",
        "sns.distplot(y,ax=ax[1],bins=10)\n"
      ],
      "execution_count": 21,
      "outputs": [
        {
          "output_type": "execute_result",
          "data": {
            "text/plain": [
              "<matplotlib.axes._subplots.AxesSubplot at 0x7fecde098400>"
            ]
          },
          "metadata": {
            "tags": []
          },
          "execution_count": 21
        },
        {
          "output_type": "display_data",
          "data": {
            "image/png": "[encoded data removed]",
            "text/plain": [
              "<Figure size 360x360 with 2 Axes>"
            ]
          },
          "metadata": {
            "tags": [],
            "needs_background": "light"
          }
        }
      ]
    },
    {
      "cell_type": "code",
      "metadata": {
        "id": "aXqQsZMEoNqy",
        "colab_type": "code",
        "colab": {
          "base_uri": "https://localhost:8080/",
          "height": 34
        },
        "outputId": "c68c6b96-497b-4016-fad0-8ce7ebf6caed"
      },
      "source": [
        "sum_ = 0\n",
        "\n",
        "for i in range(1,11):\n",
        "  sum_ +=i\n",
        "\n",
        "print(sum_)"
      ],
      "execution_count": 22,
      "outputs": [
        {
          "output_type": "stream",
          "text": [
            "55\n"
          ],
          "name": "stdout"
        }
      ]
    },
    {
      "cell_type": "code",
      "metadata": {
        "id": "ABJgmQlCoacE",
        "colab_type": "code",
        "colab": {}
      },
      "source": [
        "eng = 80\n",
        "kor = 72\n",
        "math = 90\n",
        "social = 66"
      ],
      "execution_count": 0,
      "outputs": []
    },
    {
      "cell_type": "code",
      "metadata": {
        "id": "_0ggdXJpp2Il",
        "colab_type": "code",
        "colab": {
          "base_uri": "https://localhost:8080/",
          "height": 52
        },
        "outputId": "ba076480-2f38-4cf2-d914-084c6d3ac6be"
      },
      "source": [
        "total = eng+kor+math+social\n",
        "print(total)\n",
        "\n",
        "avg = total/4\n",
        "print(int(avg))"
      ],
      "execution_count": 26,
      "outputs": [
        {
          "output_type": "stream",
          "text": [
            "308\n",
            "77\n"
          ],
          "name": "stdout"
        }
      ]
    },
    {
      "cell_type": "code",
      "metadata": {
        "id": "np8vm9L-qBy8",
        "colab_type": "code",
        "colab": {
          "base_uri": "https://localhost:8080/",
          "height": 34
        },
        "outputId": "85f7944e-fecd-423c-cdf3-f3ab3b3c4618"
      },
      "source": [
        "r = 3\n",
        "s = 3.14*(3**2)\n",
        "print(int(s))"
      ],
      "execution_count": 28,
      "outputs": [
        {
          "output_type": "stream",
          "text": [
            "28\n"
          ],
          "name": "stdout"
        }
      ]
    },
    {
      "cell_type": "code",
      "metadata": {
        "id": "3gSrgMdysByu",
        "colab_type": "code",
        "colab": {
          "base_uri": "https://localhost:8080/",
          "height": 34
        },
        "outputId": "1c1a569b-ee0f-4f80-d872-9a87b4674c83"
      },
      "source": [
        "a = 3\n",
        "print(a**2,a**3)"
      ],
      "execution_count": 29,
      "outputs": [
        {
          "output_type": "stream",
          "text": [
            "9 27\n"
          ],
          "name": "stdout"
        }
      ]
    },
    {
      "cell_type": "code",
      "metadata": {
        "id": "fwTuzd_E_UZs",
        "colab_type": "code",
        "colab": {
          "base_uri": "https://localhost:8080/",
          "height": 34
        },
        "outputId": "00a600f0-f1e8-4154-fe8d-e9a4732010d5"
      },
      "source": [
        "\"A\">\"a\""
      ],
      "execution_count": 31,
      "outputs": [
        {
          "output_type": "execute_result",
          "data": {
            "text/plain": [
              "False"
            ]
          },
          "metadata": {
            "tags": []
          },
          "execution_count": 31
        }
      ]
    },
    {
      "cell_type": "code",
      "metadata": {
        "id": "B-b4iylgDrvS",
        "colab_type": "code",
        "colab": {
          "base_uri": "https://localhost:8080/",
          "height": 34
        },
        "outputId": "be3cbe70-0def-44ea-fd82-04066339f98a"
      },
      "source": [
        "weather = '20190921미세먼지양호함'\n",
        "date = weather[:8]\n",
        "micro = weather[8:]\n",
        "print(date,\" \",micro)"
      ],
      "execution_count": 32,
      "outputs": [
        {
          "output_type": "stream",
          "text": [
            "20190921   미세먼지양호함\n"
          ],
          "name": "stdout"
        }
      ]
    },
    {
      "cell_type": "code",
      "metadata": {
        "id": "AAvXV7HdNCfA",
        "colab_type": "code",
        "colab": {
          "base_uri": "https://localhost:8080/",
          "height": 34
        },
        "outputId": "71fe1c19-929b-4a97-d1ca-72fa83efb805"
      },
      "source": [
        "'as%s'%'d'\n"
      ],
      "execution_count": 37,
      "outputs": [
        {
          "output_type": "execute_result",
          "data": {
            "text/plain": [
              "'asd'"
            ]
          },
          "metadata": {
            "tags": []
          },
          "execution_count": 37
        }
      ]
    },
    {
      "cell_type": "code",
      "metadata": {
        "id": "rOGEA72zaLtM",
        "colab_type": "code",
        "colab": {}
      },
      "source": [
        ""
      ],
      "execution_count": 0,
      "outputs": []
    },
    {
      "cell_type": "markdown",
      "metadata": {
        "id": "0rqSRK8KaOOU",
        "colab_type": "text"
      },
      "source": [
        "## > 문자열 내장함수* = 문자열 메서드\n",
        "\n",
        "    └≫ 내장함수 : 특정 데이터 타입이 자체적으로 가지고 있는 속성으로 존재하는 함수\n",
        "    └≫ 문법 : 변수(데이터타입값).함수명()\n",
        "\n",
        "\n",
        "* count( ) : 특정 문자의 개수\n",
        "\n",
        "\n",
        "* find( ) :특정 문자의 인덱스 번호(위치)\n",
        "\n",
        "\n",
        "* join( ) : 특정 기호를 문자열 아이템 사이에 입력\n",
        "\n",
        "\n",
        "* upper( ) : 문자열을 대문자로 변경\n",
        "\n",
        "\n",
        "* lower( ) : 문자열을 소문자로 변경\n",
        "\n",
        "\n",
        "* capitalize( ) : 문자열의 첫 글자를 대문자로\n",
        "\n",
        "\n",
        "* swapcase( ) : 대문자는 소문자로, 소문자는 대문자로 전환\n",
        "\n",
        "\n",
        "* lstrip( ) / rstrip( ) / strip( ) : 좌 / 우 / 앞뒤 공백(기본) 및 특정 문자 지우기\n",
        "\n",
        "\n",
        "* replace( ) : 기존 문자를 새로운 문자로 바꾸기\n",
        "\n",
        "\n",
        "* split( ) : 특정 기호를 기준으로 문자열을 아이템 단위로 나누어 리스트로 반환\n",
        "\n",
        "\n",
        "* center( ) : 문자열 길이를 지정하여 대상 문자열을 중앙 정렬\n",
        "\n",
        "\n",
        "* ljust( ) : 문자열 길이를 지정하여 대상 문자열을 왼쪽 정렬\n",
        "\n",
        "\n",
        "* rjust( ) : 문자열 길이를 지정하여 대상 문자열을 오른쪽 정렬\n"
      ]
    },
    {
      "cell_type": "code",
      "metadata": {
        "id": "hca0DxbsaatX",
        "colab_type": "code",
        "colab": {}
      },
      "source": [
        "# 문자열 생성\n",
        "text = 'tomato juice'"
      ],
      "execution_count": 0,
      "outputs": []
    },
    {
      "cell_type": "code",
      "metadata": {
        "id": "a_6QiisUasg3",
        "colab_type": "code",
        "colab": {
          "base_uri": "https://localhost:8080/",
          "height": 34
        },
        "outputId": "4d63668b-b509-4cc3-e06f-b4ecea915972"
      },
      "source": [
        "# count()\n",
        "# text문자열에서의  a의 갯수\n",
        "text.count('to')"
      ],
      "execution_count": 41,
      "outputs": [
        {
          "output_type": "execute_result",
          "data": {
            "text/plain": [
              "2"
            ]
          },
          "metadata": {
            "tags": []
          },
          "execution_count": 41
        }
      ]
    },
    {
      "cell_type": "code",
      "metadata": {
        "id": "WcZFaRH3a9Ev",
        "colab_type": "code",
        "colab": {
          "base_uri": "https://localhost:8080/",
          "height": 34
        },
        "outputId": "b59139ad-f7be-4966-b3d2-29c5d882e287"
      },
      "source": [
        "# find() : 특정 값의 인덱스 번호를 반환\n",
        "# txt 문자열에서의 a의 인덱스 번호\n",
        "text.find('juice')"
      ],
      "execution_count": 54,
      "outputs": [
        {
          "output_type": "execute_result",
          "data": {
            "text/plain": [
              "7"
            ]
          },
          "metadata": {
            "tags": []
          },
          "execution_count": 54
        }
      ]
    },
    {
      "cell_type": "code",
      "metadata": {
        "id": "3TB14ncXczW9",
        "colab_type": "code",
        "colab": {}
      },
      "source": [
        "# upper()\n",
        "# 변경한 결과를 시뮬레이션 해서 보여줌 (원본자료는 대문자화 되지 않음)\n",
        "text2= text.upper()"
      ],
      "execution_count": 0,
      "outputs": []
    },
    {
      "cell_type": "code",
      "metadata": {
        "id": "DhPpqVhjdT2M",
        "colab_type": "code",
        "colab": {
          "base_uri": "https://localhost:8080/",
          "height": 34
        },
        "outputId": "75cda856-02f7-4f01-b77a-2b0972b2a741"
      },
      "source": [
        "text2.lower()"
      ],
      "execution_count": 65,
      "outputs": [
        {
          "output_type": "execute_result",
          "data": {
            "text/plain": [
              "'tomato juice'"
            ]
          },
          "metadata": {
            "tags": []
          },
          "execution_count": 65
        }
      ]
    },
    {
      "cell_type": "code",
      "metadata": {
        "id": "unIDFv4Gdydt",
        "colab_type": "code",
        "colab": {}
      },
      "source": [
        "text = '              123         123               '"
      ],
      "execution_count": 0,
      "outputs": []
    },
    {
      "cell_type": "code",
      "metadata": {
        "id": "Xivhk7RueCJ3",
        "colab_type": "code",
        "colab": {
          "base_uri": "https://localhost:8080/",
          "height": 34
        },
        "outputId": "9e44ef63-3afe-4a34-d014-70d77cf41c8c"
      },
      "source": [
        "# lstrip()\n",
        "# 문자열의 왼쪽에 있는 공백 전부 제거(가운데는 제거 안함)\n",
        "# 임시적인 결과만 보여줌(원본 변형 x)\n",
        "text.lstrip()\n"
      ],
      "execution_count": 72,
      "outputs": [
        {
          "output_type": "execute_result",
          "data": {
            "text/plain": [
              "'123         123               '"
            ]
          },
          "metadata": {
            "tags": []
          },
          "execution_count": 72
        }
      ]
    },
    {
      "cell_type": "code",
      "metadata": {
        "id": "ve0hFEHVe8Lo",
        "colab_type": "code",
        "colab": {
          "base_uri": "https://localhost:8080/",
          "height": 34
        },
        "outputId": "b00f78f5-ee39-45df-e0f6-b7aa73c30729"
      },
      "source": [
        "text.rstrip()\n"
      ],
      "execution_count": 73,
      "outputs": [
        {
          "output_type": "execute_result",
          "data": {
            "text/plain": [
              "'              123         123'"
            ]
          },
          "metadata": {
            "tags": []
          },
          "execution_count": 73
        }
      ]
    },
    {
      "cell_type": "code",
      "metadata": {
        "id": "CGx7KTcye9b0",
        "colab_type": "code",
        "colab": {
          "base_uri": "https://localhost:8080/",
          "height": 34
        },
        "outputId": "3d7f797b-c2be-4531-8a1c-6376c389a7fa"
      },
      "source": [
        "# replace(old,new)\n",
        "# 찾아바꾸기, 문자열 내에서 old에 해당하는 문자를 찾아 new 로 싹 다 교체\n",
        "# 공백 찾아 없애기에 쓸 수 있음\n",
        "# 역시 원본자료에는 영향을 미치지 않고 일시적으로 변경\n",
        "text.replace('123',\"456\")"
      ],
      "execution_count": 76,
      "outputs": [
        {
          "output_type": "execute_result",
          "data": {
            "text/plain": [
              "'              456         456               '"
            ]
          },
          "metadata": {
            "tags": []
          },
          "execution_count": 76
        }
      ]
    },
    {
      "cell_type": "code",
      "metadata": {
        "id": "Z-uHJ7kCfRD2",
        "colab_type": "code",
        "colab": {
          "base_uri": "https://localhost:8080/",
          "height": 34
        },
        "outputId": "e710b4b6-4608-4a0b-9104-8234728ea70d"
      },
      "source": [
        "text.replace(\"  \",\"\")"
      ],
      "execution_count": 80,
      "outputs": [
        {
          "output_type": "execute_result",
          "data": {
            "text/plain": [
              "'123 123 '"
            ]
          },
          "metadata": {
            "tags": []
          },
          "execution_count": 80
        }
      ]
    },
    {
      "cell_type": "code",
      "metadata": {
        "id": "0Brs6EVrhZNq",
        "colab_type": "code",
        "colab": {}
      },
      "source": [
        "text3 = 'a,b,c,ddes'"
      ],
      "execution_count": 0,
      "outputs": []
    },
    {
      "cell_type": "code",
      "metadata": {
        "id": "1fq-cnKlgbTd",
        "colab_type": "code",
        "colab": {
          "base_uri": "https://localhost:8080/",
          "height": 34
        },
        "outputId": "ad75c8d7-2bdf-4d8d-feef-28e2839e486e"
      },
      "source": [
        "# .split(\"기준\")\n",
        "# 쪼개기\n",
        "# 기준 입력시 기준점을 기준으로 쪼개고 입력 안 하면 ' ' \\n, \\t 기준으로 쪼개줌\n",
        "text3.split(\",\")"
      ],
      "execution_count": 93,
      "outputs": [
        {
          "output_type": "execute_result",
          "data": {
            "text/plain": [
              "['a', 'b', 'c', 'ddes']"
            ]
          },
          "metadata": {
            "tags": []
          },
          "execution_count": 93
        }
      ]
    },
    {
      "cell_type": "code",
      "metadata": {
        "id": "q2Kswjq_hlq9",
        "colab_type": "code",
        "colab": {}
      },
      "source": [
        ""
      ],
      "execution_count": 0,
      "outputs": []
    }
  ]
}